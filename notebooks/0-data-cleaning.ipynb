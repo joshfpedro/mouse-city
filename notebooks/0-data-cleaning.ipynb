{
 "cells": [
  {
   "cell_type": "code",
   "execution_count": 1,
   "metadata": {},
   "outputs": [],
   "source": [
    "import numpy as np\n",
    "import matplotlib.pyplot as plt\n",
    "import pandas as pd\n",
    "import os\n",
    "from glob import glob\n",
    "\n",
    "# Path to the raw data directory\n",
    "data_dir = '../data/raw/rural/RFID'\n",
    "\n",
    "# Get all CSV files in the directory\n",
    "csv_files = glob(os.path.join(data_dir, '*.CSV'))\n",
    "\n",
    "# Dictionary to hold dataframes grouped by date\n",
    "dataframes = {}\n",
    "\n",
    "for file in csv_files:\n",
    "    # Extract the base filename without extension\n",
    "    basename = os.path.basename(file)\n",
    "    name, _ = os.path.splitext(basename)\n",
    "    \n",
    "    # Remove suffix like _1 or _2 to get the date\n",
    "    date_str = name.split('_')[0]\n",
    "    \n",
    "    # Read the CSV file\n",
    "    df = pd.read_csv(file, sep=';')\n",
    "    \n",
    "    # Append the dataframe to the corresponding date group\n",
    "    if date_str in dataframes:\n",
    "        dataframes[date_str].append(df)\n",
    "    else:\n",
    "        dataframes[date_str] = [df]\n",
    "\n",
    "# Combine dataframes for the same date\n",
    "combined_dfs = []\n",
    "for date, dfs in dataframes.items():\n",
    "    combined_df = pd.concat(dfs, ignore_index=True)\n",
    "    # Combine 'Date' and 'Time' into a single datetime column with dayfirst=True\n",
    "    combined_df['Datetime'] = pd.to_datetime(\n",
    "        combined_df['Date'] + ' ' + combined_df['Time'],\n",
    "        dayfirst=True,\n",
    "        format='%d-%m-%Y %H:%M:%S'\n",
    "    )\n",
    "    combined_dfs.append(combined_df)\n",
    "\n",
    "# Concatenate all combined dataframes into a single dataframe\n",
    "final_df = pd.concat(combined_dfs, ignore_index=True)\n",
    "\n",
    "# Define period date ranges\n",
    "periods = {\n",
    "    1: ('2024-03-02', '2024-03-09'),\n",
    "    2: ('2024-03-26', '2024-04-02'),\n",
    "    3: ('2024-04-30', '2024-05-07'),\n",
    "    4: ('2024-05-09', '2024-05-16'),\n",
    "    5: ('2024-05-29', '2024-06-05')\n",
    "}\n",
    "\n",
    "# Initialize 'Period' column with NaN\n",
    "final_df['Period'] = np.nan\n",
    "\n",
    "# Assign period numbers based on 'Datetime'\n",
    "for period, (start_date, end_date) in periods.items():\n",
    "    mask = (final_df['Datetime'] >= start_date) & (final_df['Datetime'] <= end_date)\n",
    "    final_df.loc[mask, 'Period'] = period\n",
    "\n",
    "# Convert 'Period' column to integer type\n",
    "final_df['Period'] = final_df['Period'].astype('Int64')"
   ]
  },
  {
   "cell_type": "code",
   "execution_count": 3,
   "metadata": {},
   "outputs": [
    {
     "data": {
      "text/plain": [
       "array(['0007A3C016', '0007A3A179', '0007A01F42', '00079FC3C6',\n",
       "       '0007A40088', '00079FEC60', '0007A3FDE2', '00079FEADE',\n",
       "       '0007A3DD05', '0007A02701', '00079FEEA8', '0007A00464',\n",
       "       '00079FED08', '0007A3C408', '0007A2E90C', '00079F8602',\n",
       "       '0007A3DC62', '0007A3931B', '0007A2EFA1', '00079FC9A0',\n",
       "       '3607A2E90C', '00079FCFF6', '01B79FEC60', '061FA02701',\n",
       "       '0037A2EFA7', '0007A40CB8', '8000000001', '8000000003',\n",
       "       '8000000002', '8000000000', '0187A3F31B', '00379FED38',\n",
       "       '0000000000', '0007A3DD35', '00C7A03464', '000FA3DD45',\n",
       "       '0C379FC9A0', '00079FEC66', '301FA3931B', '0037A3CC16',\n",
       "       '00079BEC20', '00079FEDD0', '0006A3DC22', 8000000002, 8000000000,\n",
       "       8000000003, 8000000001], dtype=object)"
      ]
     },
     "execution_count": 3,
     "metadata": {},
     "output_type": "execute_result"
    }
   ],
   "source": [
    "final_df['Transponder code'].unique()"
   ]
  },
  {
   "cell_type": "code",
   "execution_count": 4,
   "metadata": {},
   "outputs": [],
   "source": [
    "# Clean final_df by removing rows with NaN values in 'Period' column\n",
    "clean_df = final_df.dropna(subset=['Period'])\n",
    "\n",
    "# Define the list of desired transponder code suffixes\n",
    "desired_suffixes = [\n",
    "    '79FED08', '79FEADE', '7A3FDE2', '7A3931B', '7A2EFA1',\n",
    "    '7A3DC62', '7A3C016', '7A3A179', '79FC3C6', '79FEC60',\n",
    "    '7A02701', '7A2E90C', '7A3C408', '7A40088', '79FEEA8',\n",
    "    '7A00464', '79F8602', '7A3DD05', '7A3E5BC'\n",
    "]\n",
    "\n",
    "# Filter the DataFrame to include only rows where 'Transponder code' starts with '000' and ends with the desired suffixes\n",
    "filtered_df = clean_df[\n",
    "    clean_df['Transponder code'].str.startswith('000') & \n",
    "    clean_df['Transponder code'].str.endswith(tuple(desired_suffixes))\n",
    "].copy()  # Make an explicit copy to avoid SettingWithCopyWarning\n",
    "\n",
    "# Shorten the Transponder codes by removing the first 3 characters\n",
    "filtered_df.loc[:, 'Transponder code'] = filtered_df['Transponder code'].str[3:]\n",
    "\n",
    "# Ensure the output directory exists\n",
    "output_dir = '../data/intermediate-processing/rural'\n",
    "os.makedirs(output_dir, exist_ok=True)\n",
    "\n",
    "# Save the filtered DataFrame to a Parquet file\n",
    "filtered_df.to_parquet(os.path.join(output_dir, 'RFID_filtered.parquet'), index=False)"
   ]
  },
  {
   "cell_type": "code",
   "execution_count": 7,
   "metadata": {},
   "outputs": [
    {
     "data": {
      "text/plain": [
       "Transponder code\n",
       "7A00464    373718\n",
       "79FEEA8    329234\n",
       "7A40088    309573\n",
       "79FEC60    305927\n",
       "7A02701    285169\n",
       "7A3A179    258907\n",
       "7A3C408    253691\n",
       "7A3DD05    253488\n",
       "7A3FDE2    246616\n",
       "79FED08    207680\n",
       "7A2EFA1    203027\n",
       "79FEADE    183270\n",
       "7A3DC62    181476\n",
       "7A3931B    179823\n",
       "79FC3C6    175915\n",
       "7A3C016    165565\n",
       "79F8602    164041\n",
       "7A2E90C    134613\n",
       "Name: count, dtype: int64"
      ]
     },
     "execution_count": 7,
     "metadata": {},
     "output_type": "execute_result"
    }
   ],
   "source": [
    "filtered_df['Transponder code'].value_counts()"
   ]
  },
  {
   "cell_type": "code",
   "execution_count": 8,
   "metadata": {},
   "outputs": [],
   "source": [
    "# Ensure the output directory exists\n",
    "output_dir = '../data/intermediate-processing/rural'\n",
    "os.makedirs(output_dir, exist_ok=True)\n",
    "\n",
    "# Save the filtered DataFrame to a Parquet file\n",
    "filtered_df.to_parquet(os.path.join(output_dir, 'RFID_filtered.parquet'), index=False)"
   ]
  }
 ],
 "metadata": {
  "kernelspec": {
   "display_name": ".venv-mouse-city",
   "language": "python",
   "name": "python3"
  },
  "language_info": {
   "codemirror_mode": {
    "name": "ipython",
    "version": 3
   },
   "file_extension": ".py",
   "mimetype": "text/x-python",
   "name": "python",
   "nbconvert_exporter": "python",
   "pygments_lexer": "ipython3",
   "version": "3.13.0"
  }
 },
 "nbformat": 4,
 "nbformat_minor": 2
}
